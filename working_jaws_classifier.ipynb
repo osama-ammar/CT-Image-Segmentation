{
 "cells": [
  {
   "cell_type": "markdown",
   "metadata": {},
   "source": [
    "# Jaws Segmentation Task\n",
    "\n",
    "Hello, You're tasked with building a neural network using pytorch which segments upper (Maxilla) and lower(Mandible) jaws in a DICOM file\n",
    "\n",
    "The Dataset is provided as 2D slices from all 3 orthogonal points of view Axial, Coronal, and Sagittal, if you're not familiar with what a DICOM is, you're expected to read online about it\n",
    "\n",
    "Duration: 1 Week\n",
    "\n",
    "Deliverables: This notebook (which should contain your solution), and any other files (like saved weights) in a **zip** file, and you mail this **zip** file to us"
   ]
  },
  {
   "cell_type": "code",
   "execution_count": 1,
   "metadata": {},
   "outputs": [],
   "source": [
    "import boto3\n",
    "import os\n",
    "import pathlib\n",
    "import ipywidgets\n",
    "from IPython.display import display\n",
    "from math import ceil\n",
    "import torch\n",
    "import gzip\n",
    "import numpy as np\n",
    "import glob\n",
    "import matplotlib.pyplot as plt\n",
    "from torchvision import transforms\n",
    "import numpy as np\n",
    "\n"
   ]
  },
  {
   "cell_type": "code",
   "execution_count": 2,
   "metadata": {},
   "outputs": [],
   "source": [
    "BUCKET = 'cvml-datasets'\n",
    "BUCKET_DATASET_PATH = 'jaws-segmentation/v1/public/2d'\n",
    "LOCAL_DATASET_PATH = 'dataset_trial'\n",
    "BATCH_SIZE=8"
   ]
  },
  {
   "cell_type": "markdown",
   "metadata": {},
   "source": [
    "## Downloading Dataset\n",
    "\n",
    "In this part we download the publically available dataset, you can skip it if you already have it, it should be 512 MB worth of data"
   ]
  },
  {
   "cell_type": "code",
   "execution_count": 3,
   "metadata": {},
   "outputs": [],
   "source": [
    "from botocore import UNSIGNED\n",
    "from botocore.client import Config"
   ]
  },
  {
   "cell_type": "code",
   "execution_count": 4,
   "metadata": {},
   "outputs": [],
   "source": [
    "def download_file(s3client, obj, to):\n",
    "\tkey = obj['Key']\n",
    "\tfilename = pathlib.Path(to).joinpath(*key.rsplit('/'))\n",
    "\tos.makedirs(filename.parent, exist_ok = True)\n",
    "\ts3client.download_file(Bucket=BUCKET, Key=key, Filename=str(filename))\n",
    "\n",
    "def download_data(to=LOCAL_DATASET_PATH):\n",
    "    \n",
    "    #since our dataset is open-source , we can use unsigned signature version\n",
    "    \n",
    "\ts3client = boto3.client('s3', config=Config(signature_version=UNSIGNED))\n",
    "\tpaginator = s3client.get_paginator('list_objects')\n",
    "\tpage_iterator = paginator.paginate(Bucket=BUCKET, Prefix=BUCKET_DATASET_PATH)\n",
    "\tpage_counter = 3\n",
    "\tfor page in page_iterator:\n",
    "\t\tprogress_bar = ipywidgets.IntProgress(min=0, max=len(page['Contents']), description=f'Page {page_counter}:')\n",
    "\t\tdisplay(progress_bar)\n",
    "\t\tfile_counter = 0\n",
    "\t\tfor obj in page['Contents']:\n",
    "\t\t\tkey = obj['Key']\n",
    "\t\t\tfilename = pathlib.Path(to).joinpath(*key.rsplit('/'))\n",
    "\t\t\tos.makedirs(filename.parent, exist_ok = True)\n",
    "\t\t\ts3client.download_file(Bucket=BUCKET, Key=key, Filename=str(filename))\n",
    "\t\t\tprogress_bar.value += 1\n",
    "\t\tpage_counter += 1\n",
    "#download_data()"
   ]
  },
  {
   "cell_type": "markdown",
   "metadata": {},
   "source": [
    "## Explore The Dataset\n",
    "\n",
    "In this section you should explore/plot the dataset and get familiar with it, we are nice enough to write a dataset loader for you and we did some initial visualization for you"
   ]
  },
  {
   "cell_type": "code",
   "execution_count": 5,
   "metadata": {},
   "outputs": [],
   "source": [
    "class JawsDataset(torch.utils.data.Dataset):\n",
    "\tdef __init__(self, dicom_file_list, transforms):\n",
    "\t\tself.dicom_file_list = dicom_file_list\n",
    "\t\tself.transforms = transforms\n",
    "\n",
    "\tdef __len__(self):\n",
    "\t\treturn len(self.dicom_file_list)\n",
    "\n",
    "\tdef __getitem__(self, idx):\n",
    "\t\tdicom_path = self.dicom_file_list[idx]\n",
    "\t\tlabel_path = dicom_path.replace('.dicom.npy.gz', '.label.npy.gz')\n",
    "\t\tdicom_file = gzip.GzipFile(dicom_path, 'rb')\n",
    "\t\tdicom = np.load(dicom_file)\n",
    "\t\tlabel_file = gzip.GzipFile(label_path, 'rb')\n",
    "\t\tlabel = np.load(label_file)\n",
    "\t\treturn self.transforms(dicom), self.transforms(label)\n",
    "\n",
    "def axial_dataset_train(transforms, validation_ratio = 0.1):\n",
    "\tfiles = glob.glob('dataset_trial/jaws-segmentation/v1/public/2d/axial/train/**/*.dicom.npy.gz')\n",
    "\tassert len(files) > 0\n",
    "\tvalidation_files_count = ceil(len(files) * validation_ratio)\n",
    "\n",
    "\treturn (JawsDataset(files[validation_files_count:], transforms),\n",
    "\t\t\tJawsDataset(files[:validation_files_count], transforms))\n",
    "\n",
    "def coronal_dataset_train(transforms, validation_ratio = 0.1):\n",
    "\tfiles = glob.glob('dataset_trial/jaws-segmentation/v1/public/2d/coronal/train/**/*.dicom.npy.gz')\n",
    "\tassert len(files) > 0\n",
    "\tvalidation_files_count = ceil(len(files) * validation_ratio)\n",
    "\n",
    "\treturn (JawsDataset(files[validation_files_count:], transforms),\n",
    "\t\t\tJawsDataset(files[:validation_files_count], transforms))\n",
    "\n",
    "def sagittal_dataset_train(transforms, validation_ratio = 0.1):\n",
    "\tfiles = glob.glob('dataset_trial/jaws-segmentation/v1/public/2d/sagittal/train/**/*.dicom.npy.gz')\n",
    "\tassert len(files) > 0\n",
    "\tassert len(files) > 0\n",
    "\tvalidation_files_count = ceil(len(files) * validation_ratio)\n",
    "\n",
    "\treturn (JawsDataset(files[validation_files_count:], transforms),\n",
    "\t\t\tJawsDataset(files[:validation_files_count], transforms))\n",
    "\n",
    "def axial_dataset_test(transforms):\n",
    "\tfiles = glob.glob('dataset_trial/jaws-segmentation/v1/public/2d/axial/test/**/*.dicom.npy.gz')\n",
    "\tassert len(files) > 0\n",
    "\treturn JawsDataset(files, transforms)\n",
    "\n",
    "def coronal_dataset_test(transforms):\n",
    "\tfiles = glob.glob('dataset_trial/jaws-segmentation/v1/public/2d/coronal/test/**/*.dicom.npy.gz')\n",
    "\tassert len(files) > 0\n",
    "\treturn JawsDataset(files, transforms)\n",
    "\n",
    "def sagittal_dataset_test(transforms):\n",
    "\tfiles = glob.glob('dataset_trial/jaws-segmentation/v1/public/2d/sagittal/test/**/*.dicom.npy.gz')\n",
    "\tassert len(files) > 0\n",
    "\treturn JawsDataset(files, transforms)\n"
   ]
  },
  {
   "cell_type": "code",
   "execution_count": 6,
   "metadata": {},
   "outputs": [],
   "source": [
    "#decreasing the size of the input tensor due to limited computational power\n",
    "\n",
    "dataset_transforms = transforms.Compose([transforms.ToTensor(), transforms.Resize((32, 32))])  #,transforms.Normalize(mean=[0,0,0], std=[1,1,1]) ])"
   ]
  },
  {
   "cell_type": "markdown",
   "metadata": {},
   "source": [
    "## Note :\n",
    "* after exploring  labels dataset it looks like that this is a multi classification segmentation where :\n",
    "   * 1 : is for upper arch\n",
    "   * 2 : is for lower arch\n",
    "   * 0 : is for anything else   "
   ]
  },
  {
   "cell_type": "markdown",
   "metadata": {},
   "source": [
    "# preprocessing ans some helper functions"
   ]
  },
  {
   "cell_type": "markdown",
   "metadata": {},
   "source": [
    "### Images Normalization and Scaling\n",
    "* Normalizing Images : since dicom images are in 12 or 16 bits format ,and have pixel values  - in practice -  from ~ ( - 2000 to 4000 ) , we may need to normalize them to be in the normal grey scale of 8 bits range(256 grey shades) -[source]() . \n",
    "* Because we are working with bone window images , I expected that WW and WL are ~(2000 , 600) \n",
    "* windowing cut-off values  would be ... ( WL ± WW )/2\n"
   ]
  },
  {
   "cell_type": "code",
   "execution_count": 7,
   "metadata": {},
   "outputs": [],
   "source": [
    "# defining a function to  normalize the images\n",
    "def normalize(x):\n",
    "    ''' takes in an image x and returns that image scaled\n",
    "       with a feature range of pixel values from 0 to 255. \n",
    "       '''\n",
    "    \n",
    "    for i in range(x.shape[0]):\n",
    "        cop=x\n",
    "#        print (x.shape[0])\n",
    "#        print (torch.max (x[i][j]))\n",
    "        \n",
    "        cop[i][0] = ( cop[i][0] / float(torch.max (cop[i][0])) * (255))\n",
    "                   \n",
    "    return cop\n",
    "\n",
    "\n",
    "\n",
    "\n",
    "\n",
    "# a function that eliminate pixel values that are not needed and may affect our model accuaracy...after that we will convert our training images to 8 bits format\n",
    "#  we will replace values less than 0 ( air and fats) and values more than 2000 (very hard metals that couse artifacts)\n",
    "\n",
    "def cutoff(img):# the input is expected to be a bath (ex. (8,1,32,32))    \n",
    "    for i in range(img.shape[0]):\n",
    "        j=0\n",
    "        cop=img\n",
    "        for x in range(32):\n",
    "            for y in range(32):\n",
    "                if cop[i][j][x][y] < 0.0:\n",
    "                    cop[i][j][x][y] = 0.0\n",
    "                    #print (cop[i][j][x][y])\n",
    "\n",
    "                elif cop[i][j][x][y] > 2000. :\n",
    "                    cop[i][j][x][y] =2000.\n",
    "                    #print (cop[i][j][x][y])\n",
    "    return cop\n",
    "\n",
    "\n",
    "\n",
    "\n",
    "\n",
    "#testing normalize and cutff functions on a test tensor scaled from 0 to 2000\n",
    "x = (2000-1)*torch.randn(size=(8, 1,32, 32))-1\n",
    "#print (x)\n",
    "#cutoff(x) \n",
    "\n",
    "\n",
    "\n"
   ]
  },
  {
   "cell_type": "code",
   "execution_count": 8,
   "metadata": {},
   "outputs": [],
   "source": [
    "# a function that display a bathch of images \n",
    "def imgs_display(ima):\n",
    "    plt.figure(figsize=(20, 9))\n",
    "    for index in range(0, min(8, len(ima))):\n",
    "        plt.subplot(2, 4, index + 1)\n",
    "        plt.axis('off')\n",
    "        plt.imshow(ima[index].numpy().squeeze(), cmap='bone')"
   ]
  },
  {
   "cell_type": "code",
   "execution_count": 9,
   "metadata": {},
   "outputs": [],
   "source": [
    "# making a function for better zoomed visualization of images\n",
    "\n",
    "def image_visualizer(image):\n",
    "    img = np.squeeze(image)\n",
    "\n",
    "    fig = plt.figure(figsize = (20,15)) \n",
    "    ax = fig.add_subplot(111)\n",
    "    ax.imshow(img, cmap='gray')\n",
    "    \n",
    "    width, height = img.shape\n",
    "    thresh = img.max()/2.5\n",
    "    for x in range(height):\n",
    "        for y in range(width):\n",
    "            #rounding pixel value for only better visualization\n",
    "            val =img[x][y].item()#,4) if img[x][y] !=0 else 0\n",
    "            #print (val)\n",
    "\n",
    "            val=int(val)\n",
    "            ax.annotate(str(val), xy=(y,x),\n",
    "                        horizontalalignment='center',\n",
    "                        verticalalignment='center',color='white' if img[x][y]<thresh else 'black')\n",
    "            "
   ]
  },
  {
   "cell_type": "markdown",
   "metadata": {},
   "source": [
    "# post processing on model outputs"
   ]
  },
  {
   "cell_type": "code",
   "execution_count": 10,
   "metadata": {},
   "outputs": [],
   "source": [
    "# defining a function to  normalize output images from the model\n",
    "# will be used at the end of the notebook\n",
    "def post_normalize(x):\n",
    "    ''' takes in an image x and returns that image scaled\n",
    "       with a feature range of pixel values from 0 to 1. \n",
    "       '''\n",
    "    \n",
    "    for i in range(x.shape[0]):\n",
    "        cop=x\n",
    "#        print (x.shape[0])\n",
    "#        print (torch.max (x[i][j]))\n",
    "        \n",
    "        cop[i][0] = ( cop[i][0] / float(torch.max (cop[i][0])) )*2.0\n",
    "                   \n",
    "    return cop\n",
    "\n",
    "\n",
    "\n",
    "\n",
    "\n",
    "# a function that eliminate pixel values that are not needed and may affect our model accuaracy...after that we will convert our training images to 8 bits format\n",
    "#  we will replace values less than 0 ( air and fats) and values more than 2000 (very hard metals that couse artifacts)\n",
    "\n",
    "def post_cutoff(img):# the input is expected to be a bath (ex. (8,1,32,32))    \n",
    "    for i in range(img.shape[0]):\n",
    "        j=0\n",
    "        cop=img\n",
    "        for x in range(32):\n",
    "            for y in range(32):\n",
    "                if cop[i][j][x][y] < 0.0:\n",
    "                    cop[i][j][x][y] = 0.0\n",
    "                    #print (cop[i][j][x][y])\n",
    "\n",
    "                elif cop[i][j][x][y] > 2 :\n",
    "                    cop[i][j][x][y] =2\n",
    "                    #print (cop[i][j][x][y])\n",
    "    return cop\n",
    "\n",
    "\n",
    "\n",
    "\n",
    "\n",
    "#testing normalize and cutff functions on a test tensor scaled from 0 to 2000\n",
    "x = (2000-1)*torch.randn(size=(8, 1,32, 32))-1\n",
    "#print (x)\n",
    "#cutoff(x) \n",
    "def post_visualizer(image):\n",
    "    img = np.squeeze(image)\n",
    "\n",
    "    fig = plt.figure(figsize = (20,15)) \n",
    "    ax = fig.add_subplot(111)\n",
    "    ax.imshow(img, cmap='gray', vmin=0.0, vmax=2.000 )\n",
    "    \n",
    "    width, height = img.shape\n",
    "    thresh = 2.0 #max label pixel value\n",
    "    for x in range(height):\n",
    "        for y in range(width):\n",
    "            #rounding pixel value for only better visualization\n",
    "            val =img[x][y].item()#,4) if img[x][y] !=0 else 0\n",
    "            #print (val)\n",
    "\n",
    "            val=\"{:.2f}\".format(val)\n",
    "            ax.annotate(str(val), xy=(y,x),\n",
    "                        horizontalalignment='center',\n",
    "                        verticalalignment='center',color='white' if 0.0<img[x][y]<thresh else 'black')\n",
    "                        "
   ]
  },
  {
   "cell_type": "markdown",
   "metadata": {},
   "source": [
    "## Preparing dataset loaders"
   ]
  },
  {
   "cell_type": "code",
   "execution_count": 11,
   "metadata": {},
   "outputs": [
    {
     "name": "stdout",
     "output_type": "stream",
     "text": [
      "axial training dataset: 902 slice\n",
      "coronal training dataset: 1334 slice\n",
      "sagittal training dataset: 1347 slice\n"
     ]
    }
   ],
   "source": [
    "axial_train_dataset, axial_validatiaon_dataset = axial_dataset_train(dataset_transforms)\n",
    "coronal_train_dataset, coronal_validation_dataset = coronal_dataset_train(dataset_transforms)\n",
    "sagittal_train_dataset, sagittal_validation_dataset = sagittal_dataset_train(dataset_transforms)\n",
    "\n",
    "\n",
    "print(f'axial training dataset: {len(axial_train_dataset)} slice')\n",
    "print(f'coronal training dataset: {len(coronal_train_dataset)} slice')\n",
    "print(f'sagittal training dataset: {len(sagittal_train_dataset)} slice')\n",
    "\n",
    "\n",
    "##########################\n",
    "# adding validation loaders\n",
    "################################\n",
    "\n",
    "axial_train_loader = torch.utils.data.DataLoader(axial_validatiaon_dataset, shuffle=True, batch_size=BATCH_SIZE,)\n",
    "axial_validate_loader = torch.utils.data.DataLoader(axial_train_dataset, shuffle=True, batch_size=BATCH_SIZE)\n",
    "\n",
    "\n",
    "coronal_train_loader = torch.utils.data.DataLoader(coronal_train_dataset, shuffle=True, batch_size=BATCH_SIZE)\n",
    "coronal_validate_loader = torch.utils.data.DataLoader(coronal_train_dataset, shuffle=True, batch_size=BATCH_SIZE)\n",
    "\n",
    "sagittal_train_loader = torch.utils.data.DataLoader(sagittal_train_dataset, shuffle=True, batch_size=BATCH_SIZE)\n",
    "sagittal_validate_loader = torch.utils.data.DataLoader(sagittal_train_dataset, shuffle=True, batch_size=BATCH_SIZE)"
   ]
  },
  {
   "cell_type": "markdown",
   "metadata": {},
   "source": [
    "# Dataset Visualization"
   ]
  },
  {
   "cell_type": "markdown",
   "metadata": {},
   "source": [
    "## Axial Images"
   ]
  },
  {
   "cell_type": "code",
   "execution_count": 155,
   "metadata": {},
   "outputs": [
    {
     "name": "stdout",
     "output_type": "stream",
     "text": [
      "tensor(1420.4255)\n",
      "tensor(2.)\n",
      "torch.Size([8, 1, 32, 32])\n"
     ]
    },
    {
     "data": {
      "image/png": "[encoded data removed]",
      "text/plain": [
       "<Figure size 1440x1080 with 1 Axes>"
      ]
     },
     "metadata": {
      "needs_background": "light"
     },
     "output_type": "display_data"
    }
   ],
   "source": [
    "axial_data_iter = iter(axial_train_loader)\n",
    "images, labels = axial_data_iter.next()\n",
    "\n",
    "print (torch.max(images[5]))\n",
    "print (torch.max(labels[5]))\n",
    "print (images.size()) \n",
    "\n",
    "\n",
    "img=images[5]\n",
    "\n",
    "scaled_batch=normalize(cutoff(images))\n",
    "\n",
    "\n",
    "image_visualizer(scaled_batch[7])\n",
    "\n",
    "        \n",
    "        \n",
    "#print (cutoff(images) )       "
   ]
  },
  {
   "cell_type": "code",
   "execution_count": 156,
   "metadata": {},
   "outputs": [
    {
     "data": {
      "image/png": "[encoded data removed]",
      "text/plain": [
       "<Figure size 1440x648 with 8 Axes>"
      ]
     },
     "metadata": {
      "needs_background": "light"
     },
     "output_type": "display_data"
    }
   ],
   "source": [
    "imgs_display(images)"
   ]
  },
  {
   "cell_type": "code",
   "execution_count": 157,
   "metadata": {},
   "outputs": [
    {
     "data": {
      "image/png": "[encoded data removed]",
      "text/plain": [
       "<Figure size 1440x648 with 8 Axes>"
      ]
     },
     "metadata": {
      "needs_background": "light"
     },
     "output_type": "display_data"
    }
   ],
   "source": [
    "imgs_display(labels)"
   ]
  },
  {
   "cell_type": "code",
   "execution_count": null,
   "metadata": {},
   "outputs": [],
   "source": []
  },
  {
   "cell_type": "code",
   "execution_count": null,
   "metadata": {},
   "outputs": [],
   "source": []
  },
  {
   "cell_type": "code",
   "execution_count": 158,
   "metadata": {},
   "outputs": [],
   "source": [
    "#sample_image =normalize(cutoff(images))\n",
    "#print (images)\n",
    "#sample_image=normalize(cutoff(images))\n",
    "#print ((sample_image[5]).unique())\n",
    "\n",
    "#image_visualizer(sample_image[5])\n",
    "#print (images.dtype) "
   ]
  },
  {
   "cell_type": "markdown",
   "metadata": {},
   "source": [
    "## Coronal images"
   ]
  },
  {
   "cell_type": "code",
   "execution_count": 159,
   "metadata": {},
   "outputs": [
    {
     "data": {
      "image/png": "[encoded data removed]",
      "text/plain": [
       "<Figure size 1152x288 with 8 Axes>"
      ]
     },
     "metadata": {
      "needs_background": "light"
     },
     "output_type": "display_data"
    }
   ],
   "source": [
    "coronal_data_iter = iter(coronal_train_loader)\n",
    "images, labels = coronal_data_iter.next()\n",
    "plt.figure(figsize=(16, 4))\n",
    "for index in range(0, min(16, len(images))):\n",
    "\tplt.subplot(2, 8, index + 1)\n",
    "\tplt.axis('off')\n",
    "\tplt.imshow(images[index].numpy().squeeze(), cmap='bone')\n",
    "\tplt.imshow(labels[index].numpy().squeeze(), alpha=0.3)"
   ]
  },
  {
   "cell_type": "code",
   "execution_count": 160,
   "metadata": {},
   "outputs": [
    {
     "data": {
      "image/png": "[encoded data removed]",
      "text/plain": [
       "<Figure size 1440x1080 with 1 Axes>"
      ]
     },
     "metadata": {
      "needs_background": "light"
     },
     "output_type": "display_data"
    }
   ],
   "source": [
    "sample_image =images[1]\n",
    "\n",
    "image_visualizer(sample_image)"
   ]
  },
  {
   "cell_type": "markdown",
   "metadata": {},
   "source": [
    "# Sagittal Images"
   ]
  },
  {
   "cell_type": "code",
   "execution_count": 161,
   "metadata": {},
   "outputs": [
    {
     "data": {
      "image/png": "[encoded data removed]",
      "text/plain": [
       "<Figure size 1152x288 with 8 Axes>"
      ]
     },
     "metadata": {
      "needs_background": "light"
     },
     "output_type": "display_data"
    }
   ],
   "source": [
    "sagittal_data_iter = iter(sagittal_train_loader)\n",
    "images, labels = sagittal_data_iter.next()\n",
    "plt.figure(figsize=(16, 4))\n",
    "for index in range(0, min(16, len(images))):\n",
    "\tplt.subplot(2, 8, index + 1)\n",
    "\tplt.axis('off')\n",
    "\tplt.imshow(images[index].numpy().squeeze(), cmap='bone')\n",
    "\tplt.imshow(labels[index].numpy().squeeze(), alpha=0.3)"
   ]
  },
  {
   "cell_type": "code",
   "execution_count": null,
   "metadata": {},
   "outputs": [],
   "source": []
  },
  {
   "cell_type": "markdown",
   "metadata": {},
   "source": [
    "# Training\n",
    "\n",
    "Now that you have downloaded the dataset and inspected it for a bit, you should train your model here, you can train a single model which works with all views (axial, sagittal, coronal), or you can train a model each, it's up to you"
   ]
  },
  {
   "cell_type": "markdown",
   "metadata": {},
   "source": [
    "# Model stracture \n",
    "### I will use UNet for this task as it's commonly used for image segmentations tasks and proved its efficiency"
   ]
  },
  {
   "cell_type": "markdown",
   "metadata": {},
   "source": [
    "\n",
    "from unet import UNet\n",
    "model = UNet(in_channels=1,\n",
    "             out_channels=1,\n",
    "             n_blocks=3,\n",
    "             start_filts=16,\n",
    "             activation='relu',\n",
    "             normalization='batch',\n",
    "             conv_mode='same',\n",
    "             dim=2)\n",
    "\n"
   ]
  },
  {
   "cell_type": "code",
   "execution_count": 12,
   "metadata": {},
   "outputs": [
    {
     "name": "stdout",
     "output_type": "stream",
     "text": [
      "4\n"
     ]
    }
   ],
   "source": [
    "from unet import UNet\n",
    "model = UNet()\n",
    "model = UNet(in_channels=1, out_channels=1, n_blocks=4, start_filts=16, activation='relu', normalization='batch', conv_mode='same', dim=2)\n",
    "\n",
    "print (model.n_blocks)\n",
    "\n"
   ]
  },
  {
   "cell_type": "code",
   "execution_count": 13,
   "metadata": {},
   "outputs": [],
   "source": [
    "# trying another unet implementation\n",
    "\n",
    "\n",
    "#from unet_jvanvugt import UNet\n",
    "#model = UNet()"
   ]
  },
  {
   "cell_type": "code",
   "execution_count": 14,
   "metadata": {},
   "outputs": [
    {
     "name": "stdout",
     "output_type": "stream",
     "text": [
      "Out: torch.Size([8, 1, 128, 128])\n"
     ]
    },
    {
     "data": {
      "text/plain": [
       "\"\\n#testing the model on our data set\\nimport torch\\ncriterion = torch.nn.CrossEntropyLoss() \\naxial_data_iter = iter(axial_train_loader)\\nimages, labels = axial_data_iter.next()\\n\\n\\noutput = model(images)\\nloss = criterion(output, labels)\\n\\nprint ('output',(output))\\nprint ('labels',labels)\\nprint ('images',images)\\n\\nimage_visualizer(labels[4])\\n\\n\""
      ]
     },
     "execution_count": 14,
     "metadata": {},
     "output_type": "execute_result"
    }
   ],
   "source": [
    "#initial test of the network\n",
    "x = torch.randn(size=(8, 1,128, 128), dtype=torch.float32)\n",
    "with torch.no_grad():\n",
    "    out = model(x)\n",
    "    \n",
    "    \n",
    "#print (model.padding)\n",
    "print(f'Out: {out.shape}')\n",
    "\n",
    "\n",
    "\n",
    "\n",
    "'''\n",
    "#testing the model on our data set\n",
    "import torch\n",
    "criterion = torch.nn.CrossEntropyLoss() \n",
    "axial_data_iter = iter(axial_train_loader)\n",
    "images, labels = axial_data_iter.next()\n",
    "\n",
    "\n",
    "output = model(images)\n",
    "loss = criterion(output, labels)\n",
    "\n",
    "print ('output',(output))\n",
    "print ('labels',labels)\n",
    "print ('images',images)\n",
    "\n",
    "image_visualizer(labels[4])\n",
    "\n",
    "'''\n",
    "\n",
    "\n",
    "\n",
    "\n",
    "\n",
    "\n",
    "\n",
    "\n"
   ]
  },
  {
   "cell_type": "code",
   "execution_count": 15,
   "metadata": {},
   "outputs": [],
   "source": [
    "#model=UNet()\n",
    "#print (model.out_channels)\n",
    "#print (model)"
   ]
  },
  {
   "cell_type": "code",
   "execution_count": 16,
   "metadata": {},
   "outputs": [],
   "source": [
    "class diceloss(torch.nn.Module):\n",
    "    def init(self):\n",
    "        super(diceLoss, self).init()\n",
    "    def forward(self,pred, target):\n",
    "       smooth = 1.\n",
    "       iflat = pred.contiguous().view(-1)\n",
    "       tflat = target.contiguous().view(-1)\n",
    "       intersection = (iflat * tflat).sum()\n",
    "       A_sum = torch.sum(iflat * iflat)\n",
    "       B_sum = torch.sum(tflat * tflat)\n",
    "       return 1 - ((2. * intersection + smooth) / (A_sum + B_sum + smooth) )\n"
   ]
  },
  {
   "cell_type": "markdown",
   "metadata": {},
   "source": [
    "# Training "
   ]
  },
  {
   "cell_type": "code",
   "execution_count": 17,
   "metadata": {},
   "outputs": [
    {
     "name": "stdout",
     "output_type": "stream",
     "text": [
      "CUDA is not available.  Training on CPU ...\n"
     ]
    }
   ],
   "source": [
    "import torch\n",
    "import numpy as np\n",
    "\n",
    "\n",
    "# check if CUDA is available\n",
    "train_on_gpu = torch.cuda.is_available()\n",
    "\n",
    "if not train_on_gpu:\n",
    "    print('CUDA is not available.  Training on CPU ...')\n",
    "else:\n",
    "    print('CUDA is available!  Training on GPU ...')"
   ]
  },
  {
   "cell_type": "code",
   "execution_count": 18,
   "metadata": {},
   "outputs": [],
   "source": [
    "import torch.optim as optim\n",
    "\n",
    "# specify loss function \n",
    "# BinaryCrossEntropy  expects probabilities so you should pass your output through a sigmoid.\n",
    "# BCEWithLogitsLoss() expects logits, so it could be any thing.\n",
    "\n",
    "criterion =   torch.nn.BCEWithLogitsLoss() # CrossEntropyLoss() #.BCEWithLogitsLoss()   #BCELoss()  #NLLLoss #diceloss()\n",
    "\n",
    "# specify optimizer (SGD) because \n",
    "optimizer = optim.SGD(model.parameters(), lr=0.02)  #SGD   #Adam   \n",
    "\n",
    "# number of epochs to train the model\n",
    "n_epochs =30"
   ]
  },
  {
   "cell_type": "code",
   "execution_count": null,
   "metadata": {},
   "outputs": [
    {
     "name": "stdout",
     "output_type": "stream",
     "text": [
      "Epoch: 1 \tTraining Loss: 0.075626 \tValidation Loss: 0.064923\n",
      "Validation loss decreased (inf --> 0.064923).  Saving model ...\n",
      "Epoch: 2 \tTraining Loss: 0.055354 \tValidation Loss: 0.053007\n",
      "Validation loss decreased (0.064923 --> 0.053007).  Saving model ...\n",
      "Epoch: 3 \tTraining Loss: 0.043102 \tValidation Loss: 0.044075\n",
      "Validation loss decreased (0.053007 --> 0.044075).  Saving model ...\n",
      "Epoch: 4 \tTraining Loss: 0.034966 \tValidation Loss: 0.036996\n",
      "Validation loss decreased (0.044075 --> 0.036996).  Saving model ...\n"
     ]
    }
   ],
   "source": [
    "\n",
    "val_losses = []\n",
    "train_losses = []\n",
    "\n",
    "valid_loss_min = np.Inf # track change in validation loss\n",
    "\n",
    "for epoch in range(1, n_epochs+1):\n",
    "\n",
    "    # keep track of training and validation loss\n",
    "    train_loss = 0.0\n",
    "    valid_loss = 0.0\n",
    "###############################################################################################    \n",
    "    ###################\n",
    "    # training the model #\n",
    "    ###################\n",
    "    model.train()\n",
    "    for data, target in axial_train_loader:\n",
    "\n",
    "        data=normalize(cutoff(data))\n",
    "        data=data.to(torch.uint8)\n",
    "        data=data.float()\n",
    "\n",
    "        \n",
    "        \n",
    "        optimizer.zero_grad()\n",
    "        \n",
    "        # forward pass: compute predicted outputs by passing inputs to the model\n",
    "        output = model(data)\n",
    "     \n",
    "        \n",
    "#        print ('data' ,data)\n",
    "#        print ('target' ,target)            \n",
    " #       print ('output' ,output)\n",
    "\n",
    "\n",
    "        # calculate the batch loss\n",
    "        loss = criterion(output, target)\n",
    "#        print ('loss',loss.item())\n",
    "\n",
    "        # backward pass: compute gradient of the loss with respect to model parameters\n",
    "        loss.backward()\n",
    "        \n",
    "        # perform a single optimization step (parameter update)\n",
    "        optimizer.step()\n",
    "        \n",
    "        # update training loss\n",
    "        train_loss += loss\n",
    "        \n",
    "#    print (data,target,loss)        \n",
    "        \n",
    "# checking the sizes of tensors    \n",
    "#        print ('input size' ,data.size())\n",
    "#        print ('target size' ,target.size())\n",
    "#        print ('output size' ,output.size())\n",
    "        #print (target)            \n",
    "        \n",
    "        \n",
    "        \n",
    "    train_losses.append(train_loss.item())    \n",
    "\n",
    "\n",
    "#    print (data.type())\n",
    "    #print (data , target,output)\n",
    "    \n",
    "########################################################################################## \n",
    "\n",
    "    ######################    \n",
    "    # validation of the model \n",
    "    ######################\n",
    "    model.eval()    \n",
    "    for data, target in axial_validate_loader:\n",
    "\n",
    "        # forward pass: compute predicted outputs by passing inputs to the model\n",
    "\n",
    "        data=normalize(cutoff(data))\n",
    "        data=data.to(torch.uint8)\n",
    "        data=data.float()\n",
    " \n",
    "        \n",
    "        \n",
    "        output = model(data)\n",
    "\n",
    "        # calculate the batch loss\n",
    "        loss = criterion(output, target)\n",
    "        # update average validation loss \n",
    "        \n",
    "        valid_loss += loss\n",
    "        \n",
    "    val_losses.append(valid_loss.item()) \n",
    "    \n",
    "    \n",
    "    # calculate average losses\n",
    "    train_loss = train_loss/len(axial_train_loader.sampler)\n",
    "    valid_loss = valid_loss/len(axial_validate_loader.sampler)\n",
    "    \n",
    "    \n",
    "    # print training/validation statistics \n",
    "    print('Epoch: {} \\tTraining Loss: {:.6f} \\tValidation Loss: {:.6f}'.format(\n",
    "        epoch, train_loss, valid_loss))\n",
    "    \n",
    "    # save model if validation loss has decreased\n",
    "    if valid_loss <= valid_loss_min:\n",
    "        print('Validation loss decreased ({:.6f} --> {:.6f}).  Saving model ...'.format(valid_loss_min,valid_loss))\n",
    "        torch.save(model.state_dict(), 'Machine_Learning_trial.pt')\n",
    "        valid_loss_min = valid_loss"
   ]
  },
  {
   "cell_type": "markdown",
   "metadata": {},
   "source": [
    "## Visualize training using learning curves"
   ]
  },
  {
   "cell_type": "code",
   "execution_count": null,
   "metadata": {},
   "outputs": [],
   "source": [
    "# plotting losses variation during training "
   ]
  },
  {
   "cell_type": "code",
   "execution_count": null,
   "metadata": {},
   "outputs": [],
   "source": [
    "\n",
    "plt.figure(figsize=(10,5))\n",
    "plt.title(\"Training and Validation Loss\")\n",
    "\n",
    "plt.plot(val_losses,label=\"val\")\n",
    "plt.plot(train_losses,label=\"train\")\n",
    "\n",
    "#plt.xticks(range(0.0,1.0))\n",
    "plt.yticks(range(0,1))\n",
    "\n",
    "plt.xlabel(\"iterations\")\n",
    "plt.ylabel(\"Loss\")\n",
    "plt.legend()\n",
    "\n",
    "plt.show()"
   ]
  },
  {
   "cell_type": "markdown",
   "metadata": {},
   "source": [
    "## Testing\n",
    "\n",
    "Now you should run your trained model on the test dataset available below and report your results"
   ]
  },
  {
   "cell_type": "code",
   "execution_count": null,
   "metadata": {},
   "outputs": [],
   "source": [
    "#first , getting the model with lowest validation error\n",
    "model.load_state_dict(torch.load('Machine_Learning_trial.pt'))"
   ]
  },
  {
   "cell_type": "code",
   "execution_count": null,
   "metadata": {},
   "outputs": [],
   "source": [
    "axial_test_dataset = axial_dataset_test(dataset_transforms)\n",
    "coronal_test_dataset = coronal_dataset_test(dataset_transforms)\n",
    "sagittal_test_dataset = sagittal_dataset_test(dataset_transforms)\n",
    "\n",
    "\n",
    "print(f'axial testing dataset: {len(axial_test_dataset)} slice')\n",
    "print(f'coronal testing dataset: {len(coronal_test_dataset)} slice')\n",
    "print(f'sagittal testing dataset: {len(sagittal_test_dataset)} slice')\n",
    "\n",
    "axial_test_loader = torch.utils.data.DataLoader(axial_train_dataset, shuffle=True, batch_size=BATCH_SIZE)\n",
    "coronal_test_loader = torch.utils.data.DataLoader(coronal_train_dataset, shuffle=True, batch_size=BATCH_SIZE)\n",
    "sagittal_test_loader = torch.utils.data.DataLoader(sagittal_train_dataset, shuffle=True, batch_size=BATCH_SIZE)"
   ]
  },
  {
   "cell_type": "code",
   "execution_count": null,
   "metadata": {},
   "outputs": [],
   "source": [
    "axial_data_iter = iter(axial_test_loader)\n",
    "images, labels = axial_data_iter.next()\n",
    "print (len(axial_test_loader))"
   ]
  },
  {
   "cell_type": "code",
   "execution_count": null,
   "metadata": {},
   "outputs": [],
   "source": []
  },
  {
   "cell_type": "code",
   "execution_count": null,
   "metadata": {},
   "outputs": [],
   "source": [
    "'''\n",
    "# model testing\n",
    "test_loss = 0.0\n",
    "class_correct = list(0. for i in range(10))\n",
    "class_total = list(0. for i in range(10))\n",
    "\n",
    "test_losses=[]\n",
    "model.eval()\n",
    "# iterate over test data\n",
    "for data, target in axial_test_loader:\n",
    "#    print (data.size())\n",
    "#    print (target.size())\n",
    "    # forward pass: compute predicted outputs by passing inputs to the model\n",
    "    output = model(data)\n",
    "    # calculate the batch loss\n",
    "    loss = criterion(output, target)\n",
    "    # update test loss \n",
    "    test_loss += loss\n",
    "    #print (output.size())\n",
    "    test_losses.append( test_loss.item())    \n",
    "\n",
    "print (output.size())\n",
    "\n",
    "'''"
   ]
  },
  {
   "cell_type": "code",
   "execution_count": null,
   "metadata": {},
   "outputs": [],
   "source": []
  },
  {
   "cell_type": "code",
   "execution_count": null,
   "metadata": {},
   "outputs": [],
   "source": [
    "#displaying batch of test set\n",
    "imgs_display(images)"
   ]
  },
  {
   "cell_type": "code",
   "execution_count": null,
   "metadata": {},
   "outputs": [],
   "source": [
    "#output of our network\n",
    "model.eval()\n",
    "output=model(images)\n",
    "imgs_display(output.detach())"
   ]
  },
  {
   "cell_type": "code",
   "execution_count": null,
   "metadata": {},
   "outputs": [],
   "source": [
    "#displaying ground truth of test set\n",
    "imgs_display(labels)"
   ]
  },
  {
   "cell_type": "code",
   "execution_count": null,
   "metadata": {},
   "outputs": [],
   "source": []
  },
  {
   "cell_type": "code",
   "execution_count": null,
   "metadata": {},
   "outputs": [],
   "source": [
    "tera=output.detach()\n",
    "#tera=post_normalize(tera)\n",
    "#print (tera[3])\n",
    "#post_visualizer(tera[4])"
   ]
  },
  {
   "cell_type": "code",
   "execution_count": null,
   "metadata": {},
   "outputs": [],
   "source": [
    "#image_visualizer(labels[3])"
   ]
  },
  {
   "cell_type": "code",
   "execution_count": null,
   "metadata": {},
   "outputs": [],
   "source": []
  },
  {
   "cell_type": "code",
   "execution_count": null,
   "metadata": {},
   "outputs": [],
   "source": []
  },
  {
   "cell_type": "code",
   "execution_count": null,
   "metadata": {},
   "outputs": [],
   "source": []
  },
  {
   "cell_type": "markdown",
   "metadata": {},
   "source": [
    "# segmentation accuracy evaluation\n",
    "*  The two widely used metrics that are used in the case of semantic segmentation, Dice score (F1 score) and Jaccard score (Intersection over Union score). The Dice score is calculated as two times the overlap between the predicted segmentation mask and the Ground Truth mask divided by the total pixels in both the masks. "
   ]
  },
  {
   "cell_type": "markdown",
   "metadata": {},
   "source": [
    "### recomended improvements to the model\n",
    "* extending the model to include tooth segmentation\n",
    "* trying many loss functions and optimizers"
   ]
  },
  {
   "cell_type": "code",
   "execution_count": null,
   "metadata": {},
   "outputs": [],
   "source": []
  },
  {
   "cell_type": "markdown",
   "metadata": {},
   "source": [
    "## Defining Dice  loss\n",
    "* I used this loss because it's widely used in medical images segmentation ref:\n",
    "* it calculates the similarity between two images\n",
    "* It's recommended because ....\n",
    "* cross-entropy loss examines each pixel individually, comparing the class predictions (depth-wise pixel vector) to our one-hot encoded target vector. Because the cross-entropy loss evaluates the class predictions for each pixel vector individually and then averages over all pixels, we are essentially asserting equal learning to each pixel in the image\n",
    "\n",
    "* dice loss metric is adopted. It is based on the Dice coefficient, which is essentially a measure of overlap between two samples. This measure ranges from 0 to 1 where a Dice coefficient of 1 denotes perfect and complete overlap. Dice loss was originally developed for binary classification, but it can be generalized to work with multiple classes\n",
    "\n",
    "* The most commonly used loss function for the task of image segmentation is a pixel-wise cross entropy loss. This loss examines each pixel individually, comparing the class predictions (depth-wise pixel vector) to our one-hot encoded target vector.\n",
    "\n",
    "* Another popular loss function for image segmentation tasks is based on the Dice coefficient, (which you have tried already) which is essentially a measure of overlap between two samples. This measure ranges from 0 to 1 where a Dice coefficient of 1 denotes perfect and complete overlap.\n",
    "\n",
    "* In case you were wondering, there's a 2 in the numerator in calculating the Dice coefficient because our denominator \"double counts\" the common elements between the two sets. In order to formulate a loss function which can be minimized, we'll simply use 1−Dice.\n",
    "\n",
    "* This loss function is known as the soft Dice loss because we directly use the predicted probabilities instead of doing threshold and converting them into a binary mask."
   ]
  },
  {
   "cell_type": "code",
   "execution_count": null,
   "metadata": {},
   "outputs": [],
   "source": []
  }
 ],
 "metadata": {
  "interpreter": {
   "hash": "756e5570d4491bc9653f2b1746fdac04e7f8f2c613af5a9093a879035790827d"
  },
  "kernelspec": {
   "display_name": "Python 3",
   "language": "python",
   "name": "python3"
  },
  "language_info": {
   "codemirror_mode": {
    "name": "ipython",
    "version": 3
   },
   "file_extension": ".py",
   "mimetype": "text/x-python",
   "name": "python",
   "nbconvert_exporter": "python",
   "pygments_lexer": "ipython3",
   "version": "3.7.6"
  }
 },
 "nbformat": 4,
 "nbformat_minor": 2
}
