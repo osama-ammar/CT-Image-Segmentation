{
 "cells": [
  {
   "cell_type": "markdown",
   "metadata": {},
   "source": [
    "# Jaws Segmentation Task\n",
    "\n",
    "Hello, You're tasked with building a neural network using pytorch which segments upper (Maxilla) and lower(Mandible) jaws in a DICOM file\n",
    "\n",
    "The Dataset is provided as 2D slices from all 3 orthogonal points of view Axial, Coronal, and Sagittal, if you're not familiar with what a DICOM is, you're expected to read online about it\n",
    "\n",
    "Duration: 1 Week\n",
    "\n",
    "Deliverables: This notebook (which should contain your solution), and any other files (like saved weights) in a **zip** file, and you mail this **zip** file to us"
   ]
  },
  {
   "cell_type": "code",
   "execution_count": 1,
   "metadata": {},
   "outputs": [],
   "source": [
    "import boto3\n",
    "import os\n",
    "import pathlib\n",
    "import ipywidgets\n",
    "from IPython.display import display\n",
    "from math import ceil\n",
    "import torch\n",
    "import gzip\n",
    "import numpy as np\n",
    "import glob\n",
    "import matplotlib.pyplot as plt\n",
    "from torchvision import transforms\n",
    "import numpy as np\n",
    "\n"
   ]
  },
  {
   "cell_type": "code",
   "execution_count": 2,
   "metadata": {},
   "outputs": [],
   "source": [
    "BUCKET = 'cvml-datasets'\n",
    "BUCKET_DATASET_PATH = 'jaws-segmentation/v1/public/2d'\n",
    "LOCAL_DATASET_PATH = 'dataset'\n",
    "BATCH_SIZE=16"
   ]
  },
  {
   "cell_type": "markdown",
   "metadata": {},
   "source": [
    "## Downloading Dataset\n",
    "\n",
    "In this part we download the publically available dataset, you can skip it if you already have it, it should be 512 MB worth of data"
   ]
  },
  {
   "cell_type": "code",
   "execution_count": 3,
   "metadata": {},
   "outputs": [],
   "source": [
    "from botocore import UNSIGNED\n",
    "from botocore.client import Config"
   ]
  },
  {
   "cell_type": "code",
   "execution_count": 12,
   "metadata": {},
   "outputs": [
    {
     "data": {
      "application/vnd.jupyter.widget-view+json": {
       "model_id": "74891281ffea4ae2a76422e671fb1b56",
       "version_major": 2,
       "version_minor": 0
      },
      "text/plain": [
       "IntProgress(value=0, description='Page 3:', max=1000)"
      ]
     },
     "metadata": {},
     "output_type": "display_data"
    },
    {
     "data": {
      "application/vnd.jupyter.widget-view+json": {
       "model_id": "8ad90f12ae474fb2ba6df43eccc89c51",
       "version_major": 2,
       "version_minor": 0
      },
      "text/plain": [
       "IntProgress(value=0, description='Page 4:', max=1000)"
      ]
     },
     "metadata": {},
     "output_type": "display_data"
    },
    {
     "data": {
      "application/vnd.jupyter.widget-view+json": {
       "model_id": "dc35909a2904423aa59748564b00c02d",
       "version_major": 2,
       "version_minor": 0
      },
      "text/plain": [
       "IntProgress(value=0, description='Page 5:', max=1000)"
      ]
     },
     "metadata": {},
     "output_type": "display_data"
    },
    {
     "data": {
      "application/vnd.jupyter.widget-view+json": {
       "model_id": "e090ef7f3e2a4308ae87eab96d0d7e34",
       "version_major": 2,
       "version_minor": 0
      },
      "text/plain": [
       "IntProgress(value=0, description='Page 6:', max=1000)"
      ]
     },
     "metadata": {},
     "output_type": "display_data"
    },
    {
     "data": {
      "application/vnd.jupyter.widget-view+json": {
       "model_id": "fea6b50631a94e65b889bb40d3b61f83",
       "version_major": 2,
       "version_minor": 0
      },
      "text/plain": [
       "IntProgress(value=0, description='Page 7:', max=1000)"
      ]
     },
     "metadata": {},
     "output_type": "display_data"
    },
    {
     "data": {
      "application/vnd.jupyter.widget-view+json": {
       "model_id": "117bbc77cb6240179a1e24df640eb205",
       "version_major": 2,
       "version_minor": 0
      },
      "text/plain": [
       "IntProgress(value=0, description='Page 8:', max=1000)"
      ]
     },
     "metadata": {},
     "output_type": "display_data"
    },
    {
     "data": {
      "application/vnd.jupyter.widget-view+json": {
       "model_id": "e47d4e8da8a54de4af9c6b4988536cc4",
       "version_major": 2,
       "version_minor": 0
      },
      "text/plain": [
       "IntProgress(value=0, description='Page 9:', max=1000)"
      ]
     },
     "metadata": {},
     "output_type": "display_data"
    },
    {
     "data": {
      "application/vnd.jupyter.widget-view+json": {
       "model_id": "cd8bae29dcfb430c9f01e722000e5430",
       "version_major": 2,
       "version_minor": 0
      },
      "text/plain": [
       "IntProgress(value=0, description='Page 10:', max=1000)"
      ]
     },
     "metadata": {},
     "output_type": "display_data"
    },
    {
     "data": {
      "application/vnd.jupyter.widget-view+json": {
       "model_id": "d07e1dcc142b46b3b90b0552d574096d",
       "version_major": 2,
       "version_minor": 0
      },
      "text/plain": [
       "IntProgress(value=0, description='Page 11:', max=454)"
      ]
     },
     "metadata": {},
     "output_type": "display_data"
    }
   ],
   "source": [
    "def download_file(s3client, obj, to):\n",
    "\tkey = obj['Key']\n",
    "\tfilename = pathlib.Path(to).joinpath(*key.rsplit('/'))\n",
    "\tos.makedirs(filename.parent, exist_ok = True)\n",
    "\ts3client.download_file(Bucket=BUCKET, Key=key, Filename=str(filename))\n",
    "\n",
    "def download_data(to=LOCAL_DATASET_PATH):\n",
    "    #since our dataset is open-source , we can use unsigned signature version\n",
    "\ts3client = boto3.client('s3', config=Config(signature_version=UNSIGNED))\n",
    "\tpaginator = s3client.get_paginator('list_objects')\n",
    "\tpage_iterator = paginator.paginate(Bucket=BUCKET, Prefix=BUCKET_DATASET_PATH)\n",
    "\tpage_counter = 3\n",
    "\tfor page in page_iterator:\n",
    "\t\tprogress_bar = ipywidgets.IntProgress(min=0, max=len(page['Contents']), description=f'Page {page_counter}:')\n",
    "\t\tdisplay(progress_bar)\n",
    "\t\tfile_counter = 0\n",
    "\t\tfor obj in page['Contents']:\n",
    "\t\t\tkey = obj['Key']\n",
    "\t\t\tfilename = pathlib.Path(to).joinpath(*key.rsplit('/'))\n",
    "\t\t\tos.makedirs(filename.parent, exist_ok = True)\n",
    "\t\t\ts3client.download_file(Bucket=BUCKET, Key=key, Filename=str(filename))\n",
    "\t\t\tprogress_bar.value += 1\n",
    "\t\tpage_counter += 1\n",
    "download_data()"
   ]
  },
  {
   "cell_type": "markdown",
   "metadata": {},
   "source": [
    "## Explore The Dataset\n",
    "\n",
    "In this section you should explore/plot the dataset and get familiar with it, we are nice enough to write a dataset loader for you and we did some initial visualization for you"
   ]
  },
  {
   "cell_type": "code",
   "execution_count": 3,
   "metadata": {},
   "outputs": [],
   "source": [
    "class JawsDataset(torch.utils.data.Dataset):\n",
    "\tdef __init__(self, dicom_file_list, transforms):\n",
    "\t\tself.dicom_file_list = dicom_file_list\n",
    "\t\tself.transforms = transforms\n",
    "\n",
    "\tdef __len__(self):\n",
    "\t\treturn len(self.dicom_file_list)\n",
    "\n",
    "\tdef __getitem__(self, idx):\n",
    "\t\tdicom_path = self.dicom_file_list[idx]\n",
    "\t\tlabel_path = dicom_path.replace('.dicom.npy.gz', '.label.npy.gz')\n",
    "\t\tdicom_file = gzip.GzipFile(dicom_path, 'rb')\n",
    "\t\tdicom = np.load(dicom_file)\n",
    "\t\tlabel_file = gzip.GzipFile(label_path, 'rb')\n",
    "\t\tlabel = np.load(label_file)\n",
    "\t\treturn self.transforms(dicom), self.transforms(label)\n",
    "\n",
    "def axial_dataset_train(transforms, validation_ratio = 0.1):\n",
    "\tfiles = glob.glob('dataset/jaws-segmentation/v1/public/2d/axial/train/**/*.dicom.npy.gz')\n",
    "\tassert len(files) > 0\n",
    "\tvalidation_files_count = ceil(len(files) * validation_ratio)\n",
    "\n",
    "\treturn (JawsDataset(files[validation_files_count:], transforms),\n",
    "\t\t\tJawsDataset(files[:validation_files_count], transforms))\n",
    "\n",
    "def coronal_dataset_train(transforms, validation_ratio = 0.1):\n",
    "\tfiles = glob.glob('dataset/jaws-segmentation/v1/public/2d/coronal/train/**/*.dicom.npy.gz')\n",
    "\tassert len(files) > 0\n",
    "\tvalidation_files_count = ceil(len(files) * validation_ratio)\n",
    "\n",
    "\treturn (JawsDataset(files[validation_files_count:], transforms),\n",
    "\t\t\tJawsDataset(files[:validation_files_count], transforms))\n",
    "\n",
    "def sagittal_dataset_train(transforms, validation_ratio = 0.1):\n",
    "\tfiles = glob.glob('dataset/jaws-segmentation/v1/public/2d/sagittal/train/**/*.dicom.npy.gz')\n",
    "\tassert len(files) > 0\n",
    "\tassert len(files) > 0\n",
    "\tvalidation_files_count = ceil(len(files) * validation_ratio)\n",
    "\n",
    "\treturn (JawsDataset(files[validation_files_count:], transforms),\n",
    "\t\t\tJawsDataset(files[:validation_files_count], transforms))\n",
    "\n",
    "def axial_dataset_test(transforms):\n",
    "\tfiles = glob.glob('dataset/jaws-segmentation/v1/public/2d/axial/test/**/*.dicom.npy.gz')\n",
    "\tassert len(files) > 0\n",
    "\treturn JawsDataset(files, transforms)\n",
    "\n",
    "def coronal_dataset_test(transforms):\n",
    "\tfiles = glob.glob('dataset/jaws-segmentation/v1/public/2d/coronal/test/**/*.dicom.npy.gz')\n",
    "\tassert len(files) > 0\n",
    "\treturn JawsDataset(files, transforms)\n",
    "\n",
    "def sagittal_dataset_test(transforms):\n",
    "\tfiles = glob.glob('dataset/jaws-segmentation/v1/public/2d/sagittal/test/**/*.dicom.npy.gz')\n",
    "\tassert len(files) > 0\n",
    "\treturn JawsDataset(files, transforms)\n"
   ]
  },
  {
   "cell_type": "code",
   "execution_count": 4,
   "metadata": {},
   "outputs": [],
   "source": [
    "dataset_transforms = transforms.Compose([transforms.ToTensor(), transforms.Resize((32, 32))])"
   ]
  },
  {
   "cell_type": "code",
   "execution_count": 5,
   "metadata": {},
   "outputs": [
    {
     "name": "stdout",
     "output_type": "stream",
     "text": [
      "axial training dataset: 902 slice\n",
      "coronal training dataset: 1334 slice\n",
      "sagittal training dataset: 1347 slice\n"
     ]
    }
   ],
   "source": [
    "axial_train_dataset, axial_validatiaon_dataset = axial_dataset_train(dataset_transforms)\n",
    "coronal_train_dataset, coronal_validation_dataset = coronal_dataset_train(dataset_transforms)\n",
    "sagittal_train_dataset, sagittal_validation_dataset = sagittal_dataset_train(dataset_transforms)\n",
    "print(f'axial training dataset: {len(axial_train_dataset)} slice')\n",
    "print(f'coronal training dataset: {len(coronal_train_dataset)} slice')\n",
    "print(f'sagittal training dataset: {len(sagittal_train_dataset)} slice')\n",
    "\n",
    "axial_train_loader = torch.utils.data.DataLoader(axial_train_dataset, shuffle=True, batch_size=BATCH_SIZE)\n",
    "coronal_train_loader = torch.utils.data.DataLoader(coronal_train_dataset, shuffle=True, batch_size=BATCH_SIZE)\n",
    "sagittal_train_loader = torch.utils.data.DataLoader(sagittal_train_dataset, shuffle=True, batch_size=BATCH_SIZE)"
   ]
  },
  {
   "cell_type": "code",
   "execution_count": 6,
   "metadata": {},
   "outputs": [
    {
     "data": {
      "image/png": "[encoded data removed]",
      "text/plain": [
       "<Figure size 1152x648 with 4 Axes>"
      ]
     },
     "metadata": {
      "needs_background": "light"
     },
     "output_type": "display_data"
    }
   ],
   "source": [
    "axial_data_iter = iter(axial_train_loader)\n",
    "images, labels = axial_data_iter.next()\n",
    "\n",
    "\n",
    "plt.figure(figsize=(16, 9))\n",
    "#for better visualization\n",
    "for index in range(0, 4):\n",
    "\tplt.subplot(2, 2, index + 1)\n",
    "\tplt.axis('on')\n",
    "\tplt.imshow(images[index].numpy().squeeze(), cmap='bone')\n",
    "\tplt.imshow(labels[index].numpy().squeeze(), alpha=0.2)"
   ]
  },
  {
   "cell_type": "code",
   "execution_count": 7,
   "metadata": {},
   "outputs": [
    {
     "name": "stdout",
     "output_type": "stream",
     "text": [
      "tensor([[[-1000., -1000., -1000.,  ..., -1000., -1000., -1000.],\n",
      "         [-1000., -1000., -1000.,  ..., -1000., -1000., -1000.],\n",
      "         [-1000., -1000., -1000.,  ..., -1000., -1000., -1000.],\n",
      "         ...,\n",
      "         [-1000., -1000.,  -999.,  ..., -1000., -1000., -1000.],\n",
      "         [-1000., -1000., -1000.,  ..., -1000., -1000., -1000.],\n",
      "         [-1000., -1000., -1000.,  ..., -1000., -1000., -1000.]]]) torch.Size([1, 32, 32])\n",
      "tensor([[[0., 0., 0.,  ..., 0., 0., 0.],\n",
      "         [0., 0., 0.,  ..., 0., 0., 0.],\n",
      "         [0., 0., 0.,  ..., 0., 0., 0.],\n",
      "         ...,\n",
      "         [0., 0., 0.,  ..., 0., 0., 0.],\n",
      "         [0., 0., 0.,  ..., 0., 0., 0.],\n",
      "         [0., 0., 0.,  ..., 0., 0., 0.]]]) torch.Size([1, 32, 32])\n"
     ]
    }
   ],
   "source": [
    "#visualizing images in detail\n",
    "print (images[1],images[1].size())\n",
    "print (labels[1],labels[1].size())"
   ]
  },
  {
   "cell_type": "code",
   "execution_count": 8,
   "metadata": {},
   "outputs": [],
   "source": [
    "def image_visualizer(image):\n",
    "    img = np.squeeze(image)\n",
    "\n",
    "    fig = plt.figure(figsize = (12,12)) \n",
    "    ax = fig.add_subplot(111)\n",
    "    ax.imshow(img, cmap='gray')\n",
    "    \n",
    "    width, height = img.shape\n",
    "    thresh = img.max()/2.5\n",
    "    for x in range(height):\n",
    "        for y in range(32):\n",
    "            val = np.round(img[x][y],2) if img[x][y] !=0 else 0\n",
    "            ax.annotate(str(val), xy=(y,x),\n",
    "                        horizontalalignment='center',\n",
    "                        verticalalignment='center',\n",
    "                        color='white' if img[x][y]<thresh else 'black')"
   ]
  },
  {
   "cell_type": "code",
   "execution_count": 9,
   "metadata": {},
   "outputs": [
    {
     "data": {
      "image/png": "[encoded data removed]",
      "text/plain": [
       "<Figure size 864x864 with 1 Axes>"
      ]
     },
     "metadata": {
      "needs_background": "light"
     },
     "output_type": "display_data"
    }
   ],
   "source": [
    "sample_image = labels[1]\n",
    "\n",
    "image_visualizer(sample_image)"
   ]
  },
  {
   "cell_type": "code",
   "execution_count": null,
   "metadata": {},
   "outputs": [],
   "source": []
  },
  {
   "cell_type": "code",
   "execution_count": 10,
   "metadata": {},
   "outputs": [
    {
     "data": {
      "image/png": "[encoded data removed]",
      "text/plain": [
       "<Figure size 1152x288 with 16 Axes>"
      ]
     },
     "metadata": {
      "needs_background": "light"
     },
     "output_type": "display_data"
    }
   ],
   "source": [
    "coronal_data_iter = iter(coronal_train_loader)\n",
    "images, labels = coronal_data_iter.next()\n",
    "plt.figure(figsize=(16, 4))\n",
    "for index in range(0, min(16, len(images))):\n",
    "\tplt.subplot(2, 8, index + 1)\n",
    "\tplt.axis('off')\n",
    "\tplt.imshow(images[index].numpy().squeeze(), cmap='bone')\n",
    "\tplt.imshow(labels[index].numpy().squeeze(), alpha=0.3)"
   ]
  },
  {
   "cell_type": "code",
   "execution_count": 11,
   "metadata": {},
   "outputs": [
    {
     "data": {
      "image/png": "[encoded data removed]",
      "text/plain": [
       "<Figure size 1152x288 with 16 Axes>"
      ]
     },
     "metadata": {
      "needs_background": "light"
     },
     "output_type": "display_data"
    }
   ],
   "source": [
    "sagittal_data_iter = iter(sagittal_train_loader)\n",
    "images, labels = sagittal_data_iter.next()\n",
    "plt.figure(figsize=(16, 4))\n",
    "for index in range(0, min(16, len(images))):\n",
    "\tplt.subplot(2, 8, index + 1)\n",
    "\tplt.axis('off')\n",
    "\tplt.imshow(images[index].numpy().squeeze(), cmap='bone')\n",
    "\tplt.imshow(labels[index].numpy().squeeze(), alpha=0.3)"
   ]
  },
  {
   "cell_type": "markdown",
   "metadata": {},
   "source": [
    "## Training\n",
    "\n",
    "Now that you have downloaded the dataset and inspected it for a bit, you should train your model here, you can train a single model which works with all views (axial, sagittal, coronal), or you can train a model each, it's up to you"
   ]
  },
  {
   "cell_type": "markdown",
   "metadata": {},
   "source": [
    "# Model stracture "
   ]
  },
  {
   "cell_type": "code",
   "execution_count": null,
   "metadata": {},
   "outputs": [],
   "source": [
    "from unet import UNet\n",
    "model = UNet(in_channels=1,\n",
    "             out_channels=1,\n",
    "             n_blocks=4,\n",
    "             start_filts=32,\n",
    "             activation='relu',\n",
    "             normalization='batch',\n",
    "             conv_mode='same',\n",
    "             dim=2)\n",
    "\n",
    "x = torch.randn(size=(3, 1, 512, 512), dtype=torch.float32)\n",
    "with torch.no_grad():\n",
    "    out = model(x)\n",
    "\n",
    "print(f'Out: {out.shape}')"
   ]
  },
  {
   "cell_type": "code",
   "execution_count": null,
   "metadata": {},
   "outputs": [],
   "source": [
    "#from torchsummary import summary\n",
    "#summary = summary(model, (1, 512, 512))"
   ]
  },
  {
   "cell_type": "code",
   "execution_count": null,
   "metadata": {},
   "outputs": [],
   "source": [
    "model=UNet()\n",
    "print (model.out_channels)\n",
    "print (model)"
   ]
  },
  {
   "cell_type": "code",
   "execution_count": 23,
   "metadata": {},
   "outputs": [],
   "source": [
    "import torch.optim as optim\n",
    "\n",
    "# specify loss function (categorical cross-entropy)\n",
    "criterion = torch.nn.BCELoss()\n",
    "\n",
    "# specify optimizer\n",
    "optimizer = optim.SGD(model.parameters(), lr=0.01)"
   ]
  },
  {
   "cell_type": "code",
   "execution_count": 27,
   "metadata": {},
   "outputs": [
    {
     "name": "stdout",
     "output_type": "stream",
     "text": [
      "torch.Size([2, 32, 32])\n",
      "torch.Size([1, 32, 32])\n"
     ]
    },
    {
     "ename": "ValueError",
     "evalue": "Using a target size (torch.Size([16, 1, 32, 32])) that is different to the input size (torch.Size([16, 2, 32, 32])) is deprecated. Please ensure they have the same size.",
     "output_type": "error",
     "traceback": [
      "\u001b[1;31m---------------------------------------------------------------------------\u001b[0m",
      "\u001b[1;31mValueError\u001b[0m                                Traceback (most recent call last)",
      "\u001b[1;32m<ipython-input-27-0c542bd82c17>\u001b[0m in \u001b[0;36m<module>\u001b[1;34m\u001b[0m\n\u001b[0;32m     28\u001b[0m \u001b[1;33m\u001b[0m\u001b[0m\n\u001b[0;32m     29\u001b[0m         \u001b[1;31m# calculate the batch loss\u001b[0m\u001b[1;33m\u001b[0m\u001b[1;33m\u001b[0m\u001b[1;33m\u001b[0m\u001b[0m\n\u001b[1;32m---> 30\u001b[1;33m         \u001b[0mloss\u001b[0m \u001b[1;33m=\u001b[0m \u001b[0mcriterion\u001b[0m\u001b[1;33m(\u001b[0m\u001b[0moutput\u001b[0m\u001b[1;33m,\u001b[0m \u001b[0mtarget\u001b[0m\u001b[1;33m)\u001b[0m\u001b[1;33m\u001b[0m\u001b[1;33m\u001b[0m\u001b[0m\n\u001b[0m\u001b[0;32m     31\u001b[0m         \u001b[1;31m# backward pass: compute gradient of the loss with respect to model parameters\u001b[0m\u001b[1;33m\u001b[0m\u001b[1;33m\u001b[0m\u001b[1;33m\u001b[0m\u001b[0m\n\u001b[0;32m     32\u001b[0m         \u001b[0mloss\u001b[0m\u001b[1;33m.\u001b[0m\u001b[0mbackward\u001b[0m\u001b[1;33m(\u001b[0m\u001b[1;33m)\u001b[0m\u001b[1;33m\u001b[0m\u001b[1;33m\u001b[0m\u001b[0m\n",
      "\u001b[1;32m~\\anaconda3\\lib\\site-packages\\torch\\nn\\modules\\module.py\u001b[0m in \u001b[0;36m_call_impl\u001b[1;34m(self, *input, **kwargs)\u001b[0m\n\u001b[0;32m   1100\u001b[0m         if not (self._backward_hooks or self._forward_hooks or self._forward_pre_hooks or _global_backward_hooks\n\u001b[0;32m   1101\u001b[0m                 or _global_forward_hooks or _global_forward_pre_hooks):\n\u001b[1;32m-> 1102\u001b[1;33m             \u001b[1;32mreturn\u001b[0m \u001b[0mforward_call\u001b[0m\u001b[1;33m(\u001b[0m\u001b[1;33m*\u001b[0m\u001b[0minput\u001b[0m\u001b[1;33m,\u001b[0m \u001b[1;33m**\u001b[0m\u001b[0mkwargs\u001b[0m\u001b[1;33m)\u001b[0m\u001b[1;33m\u001b[0m\u001b[1;33m\u001b[0m\u001b[0m\n\u001b[0m\u001b[0;32m   1103\u001b[0m         \u001b[1;31m# Do not call functions when jit is used\u001b[0m\u001b[1;33m\u001b[0m\u001b[1;33m\u001b[0m\u001b[1;33m\u001b[0m\u001b[0m\n\u001b[0;32m   1104\u001b[0m         \u001b[0mfull_backward_hooks\u001b[0m\u001b[1;33m,\u001b[0m \u001b[0mnon_full_backward_hooks\u001b[0m \u001b[1;33m=\u001b[0m \u001b[1;33m[\u001b[0m\u001b[1;33m]\u001b[0m\u001b[1;33m,\u001b[0m \u001b[1;33m[\u001b[0m\u001b[1;33m]\u001b[0m\u001b[1;33m\u001b[0m\u001b[1;33m\u001b[0m\u001b[0m\n",
      "\u001b[1;32m~\\anaconda3\\lib\\site-packages\\torch\\nn\\modules\\loss.py\u001b[0m in \u001b[0;36mforward\u001b[1;34m(self, input, target)\u001b[0m\n\u001b[0;32m    601\u001b[0m \u001b[1;33m\u001b[0m\u001b[0m\n\u001b[0;32m    602\u001b[0m     \u001b[1;32mdef\u001b[0m \u001b[0mforward\u001b[0m\u001b[1;33m(\u001b[0m\u001b[0mself\u001b[0m\u001b[1;33m,\u001b[0m \u001b[0minput\u001b[0m\u001b[1;33m:\u001b[0m \u001b[0mTensor\u001b[0m\u001b[1;33m,\u001b[0m \u001b[0mtarget\u001b[0m\u001b[1;33m:\u001b[0m \u001b[0mTensor\u001b[0m\u001b[1;33m)\u001b[0m \u001b[1;33m->\u001b[0m \u001b[0mTensor\u001b[0m\u001b[1;33m:\u001b[0m\u001b[1;33m\u001b[0m\u001b[1;33m\u001b[0m\u001b[0m\n\u001b[1;32m--> 603\u001b[1;33m         \u001b[1;32mreturn\u001b[0m \u001b[0mF\u001b[0m\u001b[1;33m.\u001b[0m\u001b[0mbinary_cross_entropy\u001b[0m\u001b[1;33m(\u001b[0m\u001b[0minput\u001b[0m\u001b[1;33m,\u001b[0m \u001b[0mtarget\u001b[0m\u001b[1;33m,\u001b[0m \u001b[0mweight\u001b[0m\u001b[1;33m=\u001b[0m\u001b[0mself\u001b[0m\u001b[1;33m.\u001b[0m\u001b[0mweight\u001b[0m\u001b[1;33m,\u001b[0m \u001b[0mreduction\u001b[0m\u001b[1;33m=\u001b[0m\u001b[0mself\u001b[0m\u001b[1;33m.\u001b[0m\u001b[0mreduction\u001b[0m\u001b[1;33m)\u001b[0m\u001b[1;33m\u001b[0m\u001b[1;33m\u001b[0m\u001b[0m\n\u001b[0m\u001b[0;32m    604\u001b[0m \u001b[1;33m\u001b[0m\u001b[0m\n\u001b[0;32m    605\u001b[0m \u001b[1;33m\u001b[0m\u001b[0m\n",
      "\u001b[1;32m~\\anaconda3\\lib\\site-packages\\torch\\nn\\functional.py\u001b[0m in \u001b[0;36mbinary_cross_entropy\u001b[1;34m(input, target, weight, size_average, reduce, reduction)\u001b[0m\n\u001b[0;32m   2906\u001b[0m         raise ValueError(\n\u001b[0;32m   2907\u001b[0m             \u001b[1;34m\"Using a target size ({}) that is different to the input size ({}) is deprecated. \"\u001b[0m\u001b[1;33m\u001b[0m\u001b[1;33m\u001b[0m\u001b[0m\n\u001b[1;32m-> 2908\u001b[1;33m             \u001b[1;34m\"Please ensure they have the same size.\"\u001b[0m\u001b[1;33m.\u001b[0m\u001b[0mformat\u001b[0m\u001b[1;33m(\u001b[0m\u001b[0mtarget\u001b[0m\u001b[1;33m.\u001b[0m\u001b[0msize\u001b[0m\u001b[1;33m(\u001b[0m\u001b[1;33m)\u001b[0m\u001b[1;33m,\u001b[0m \u001b[0minput\u001b[0m\u001b[1;33m.\u001b[0m\u001b[0msize\u001b[0m\u001b[1;33m(\u001b[0m\u001b[1;33m)\u001b[0m\u001b[1;33m)\u001b[0m\u001b[1;33m\u001b[0m\u001b[1;33m\u001b[0m\u001b[0m\n\u001b[0m\u001b[0;32m   2909\u001b[0m         )\n\u001b[0;32m   2910\u001b[0m \u001b[1;33m\u001b[0m\u001b[0m\n",
      "\u001b[1;31mValueError\u001b[0m: Using a target size (torch.Size([16, 1, 32, 32])) that is different to the input size (torch.Size([16, 2, 32, 32])) is deprecated. Please ensure they have the same size."
     ]
    }
   ],
   "source": [
    "# number of epochs to train the model\n",
    "n_epochs = 8\n",
    "\n",
    "valid_loss_min = np.Inf # track change in validation loss\n",
    "\n",
    "for epoch in range(1, n_epochs+1):\n",
    "\n",
    "    # keep track of training and validation loss\n",
    "    train_loss = 0.0\n",
    "    valid_loss = 0.0\n",
    "    \n",
    "    ###################\n",
    "    # train the model #\n",
    "    ###################\n",
    "    model.train()\n",
    "    for data, target in axial_train_loader:\n",
    "        # move tensors to GPU if CUDA is available\n",
    "#        if train_on_gpu:\n",
    "#            data, target = data.cuda(), target.cuda()\n",
    "        # clear the gradients of all optimized variables\n",
    "\n",
    "        data=data.float()\n",
    "        optimizer.zero_grad()\n",
    "        # forward pass: compute predicted outputs by passing inputs to the model\n",
    "        output = model(data)\n",
    "        print (output[1].size())\n",
    "        print (target[1].size())            \n",
    "        \n",
    "        # calculate the batch loss\n",
    "        loss = criterion(output, target)\n",
    "        # backward pass: compute gradient of the loss with respect to model parameters\n",
    "        loss.backward()\n",
    "        # perform a single optimization step (parameter update)\n",
    "        optimizer.step()\n",
    "        # update training loss\n",
    "        train_loss += loss.item()*data.size(0)\n",
    "        \n",
    "    ######################    \n",
    "    # validate the model #\n",
    "    ######################\n",
    "    model.eval()\n",
    "    print (data.type())\n",
    "    #print (data , target,output)\n",
    "    for data, target in zip(train_data,labels):\n",
    "        # move tensors to GPU if CUDA is available\n",
    "#        if train_on_gpu:\n",
    "#            data, target = data.cuda(), target.cuda()\n",
    "        # forward pass: compute predicted outputs by passing inputs to the model\n",
    "        data=data.float()\n",
    "        output = model(data)\n",
    "        # calculate the batch loss\n",
    "        loss = criterion(output, target)\n",
    "        # update average validation loss \n",
    "        \n",
    "        valid_loss += loss.item()*data.size(0)\n",
    "    print ('output is ',output.item(),'......target is ',target.item())\n",
    "    # calculate average losses\n",
    "    train_loss =0#rain_loss/len(train_loader.sampler)\n",
    "    valid_loss =0#alid_loss/len(valid_loader.sampler)\n",
    "    #print (target)    \n",
    "    # print training/validation statistics \n",
    "    print('Epoch: {} \\tTraining Loss: {:.6f} \\tValidation Loss: {:.6f}'.format(\n",
    "        epoch, train_loss, valid_loss))\n",
    "    \n",
    "    # save model if validation loss has decreased\n",
    "    if valid_loss <= valid_loss_min:\n",
    "        print('Validation loss decreased ({:.6f} --> {:.6f}).  Saving model ...'.format(\n",
    "        valid_loss_min,\n",
    "        valid_loss))\n",
    "        torch.save(model.state_dict(), 'model_cifar.pt')\n",
    "        valid_loss_min = valid_loss"
   ]
  },
  {
   "cell_type": "code",
   "execution_count": null,
   "metadata": {},
   "outputs": [],
   "source": []
  },
  {
   "cell_type": "markdown",
   "metadata": {},
   "source": [
    "## Testing\n",
    "\n",
    "Now you should run your trained model on the test dataset available below and report your results"
   ]
  },
  {
   "cell_type": "code",
   "execution_count": 105,
   "metadata": {},
   "outputs": [
    {
     "name": "stdout",
     "output_type": "stream",
     "text": [
      "axial testing dataset: 63 slice\n",
      "coronal testing dataset: 90 slice\n",
      "sagittal testing dataset: 91 slice\n"
     ]
    }
   ],
   "source": [
    "axial_test_dataset = axial_dataset_test(dataset_transforms)\n",
    "coronal_test_dataset = coronal_dataset_test(dataset_transforms)\n",
    "sagittal_test_dataset = sagittal_dataset_test(dataset_transforms)\n",
    "print(f'axial testing dataset: {len(axial_test_dataset)} slice')\n",
    "print(f'coronal testing dataset: {len(coronal_test_dataset)} slice')\n",
    "print(f'sagittal testing dataset: {len(sagittal_test_dataset)} slice')\n",
    "\n",
    "axial_test_loader = torch.utils.data.DataLoader(axial_train_dataset, shuffle=True, batch_size=BATCH_SIZE)\n",
    "coronal_test_loader = torch.utils.data.DataLoader(coronal_train_dataset, shuffle=True, batch_size=BATCH_SIZE)\n",
    "sagittal_test_loader = torch.utils.data.DataLoader(sagittal_train_dataset, shuffle=True, batch_size=BATCH_SIZE)"
   ]
  }
 ],
 "metadata": {
  "interpreter": {
   "hash": "756e5570d4491bc9653f2b1746fdac04e7f8f2c613af5a9093a879035790827d"
  },
  "kernelspec": {
   "display_name": "Python 3",
   "language": "python",
   "name": "python3"
  },
  "language_info": {
   "codemirror_mode": {
    "name": "ipython",
    "version": 3
   },
   "file_extension": ".py",
   "mimetype": "text/x-python",
   "name": "python",
   "nbconvert_exporter": "python",
   "pygments_lexer": "ipython3",
   "version": "3.7.6"
  }
 },
 "nbformat": 4,
 "nbformat_minor": 2
}
